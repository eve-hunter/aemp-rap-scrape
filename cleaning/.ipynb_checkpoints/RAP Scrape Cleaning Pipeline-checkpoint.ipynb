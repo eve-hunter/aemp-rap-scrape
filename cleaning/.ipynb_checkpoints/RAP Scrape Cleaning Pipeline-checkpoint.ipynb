{
 "cells": [
  {
   "cell_type": "code",
   "execution_count": 474,
   "id": "7c4a450c",
   "metadata": {},
   "outputs": [],
   "source": [
    "import os\n",
    "\n",
    "import numpy as np\n",
    "import pandas as pd\n",
    "\n",
    "import matplotlib.pyplot as plt\n",
    "import seaborn as sns"
   ]
  },
  {
   "cell_type": "code",
   "execution_count": 330,
   "id": "2e38cc0c",
   "metadata": {},
   "outputs": [
    {
     "data": {
      "text/plain": [
       "4329"
      ]
     },
     "execution_count": 330,
     "metadata": {},
     "output_type": "execute_result"
    }
   ],
   "source": [
    "all_data = [{s:pd.read_csv(os.path.join('../data/', s))} for s in os.listdir('../data') if '.csv' in s]\n",
    "all_data = {k: v for d in all_data for k, v in d.items()}\n",
    "\n",
    "#for key in all_data.keys():\n",
    "#    all_data[key]['source'] = key\n",
    "\n",
    "df_raw = pd.concat([all_data[key] for key in all_data.keys()]).drop(['date_scraped'], axis=1).drop_duplicates()\n",
    "df_raw.shape[0]"
   ]
  },
  {
   "cell_type": "code",
   "execution_count": 332,
   "id": "f23cb1a6",
   "metadata": {},
   "outputs": [
    {
     "data": {
      "text/html": [
       "<div>\n",
       "<style scoped>\n",
       "    .dataframe tbody tr th:only-of-type {\n",
       "        vertical-align: middle;\n",
       "    }\n",
       "\n",
       "    .dataframe tbody tr th {\n",
       "        vertical-align: top;\n",
       "    }\n",
       "\n",
       "    .dataframe thead th {\n",
       "        text-align: right;\n",
       "    }\n",
       "</style>\n",
       "<table border=\"1\" class=\"dataframe\">\n",
       "  <thead>\n",
       "    <tr style=\"text-align: right;\">\n",
       "      <th></th>\n",
       "      <th>header</th>\n",
       "      <th>apn</th>\n",
       "      <th>address</th>\n",
       "      <th>hearing_officer</th>\n",
       "      <th>program_analyst</th>\n",
       "      <th>petition_type</th>\n",
       "      <th>date_filed</th>\n",
       "      <th>hearing_date</th>\n",
       "      <th>mediation_date</th>\n",
       "      <th>appeal_hearing_date</th>\n",
       "      <th>case_progress</th>\n",
       "      <th>grounds_tenant</th>\n",
       "      <th>grounds_landlord</th>\n",
       "    </tr>\n",
       "  </thead>\n",
       "  <tbody>\n",
       "    <tr>\n",
       "      <th>0</th>\n",
       "      <td>CASE NUMBER:     \\n Petition Number:  15051</td>\n",
       "      <td>NaN</td>\n",
       "      <td>437 HALE AV\\nApt A</td>\n",
       "      <td>NaN</td>\n",
       "      <td>NaN</td>\n",
       "      <td>Tenant</td>\n",
       "      <td>03-18-2022</td>\n",
       "      <td>NaN</td>\n",
       "      <td>NaN</td>\n",
       "      <td>NaN</td>\n",
       "      <td>ACTIVITY STATUS\\nDATE OF ACTIVITY\\nPetition su...</td>\n",
       "      <td>GROUNDS DESCRIPTION\\nFewer housing services Th...</td>\n",
       "      <td>NaN</td>\n",
       "    </tr>\n",
       "    <tr>\n",
       "      <th>1</th>\n",
       "      <td>CASE NUMBER:  T22-0009   \\n Petition Number:  ...</td>\n",
       "      <td>NaN</td>\n",
       "      <td>3984 Altamont Avenue</td>\n",
       "      <td>Marguerita Fa-Kaji</td>\n",
       "      <td>Ava Silveira</td>\n",
       "      <td>Tenant</td>\n",
       "      <td>12-29-2021</td>\n",
       "      <td>03-16-2022</td>\n",
       "      <td>NaN</td>\n",
       "      <td>NaN</td>\n",
       "      <td>ACTIVITY STATUS\\nDATE OF ACTIVITY\\nPetition su...</td>\n",
       "      <td>GROUNDS DESCRIPTION\\nFewer housing services Th...</td>\n",
       "      <td>NaN</td>\n",
       "    </tr>\n",
       "    <tr>\n",
       "      <th>2</th>\n",
       "      <td>CASE NUMBER:  L22-0002   \\n Petition Number:  ...</td>\n",
       "      <td>048F736503900</td>\n",
       "      <td>1900 Mountain Blvd</td>\n",
       "      <td>Marguerita Fa-Kaji</td>\n",
       "      <td>Ava Silveira</td>\n",
       "      <td>Property Owner</td>\n",
       "      <td>12-28-2021</td>\n",
       "      <td>NaN</td>\n",
       "      <td>NaN</td>\n",
       "      <td>NaN</td>\n",
       "      <td>ACTIVITY STATUS\\nDATE OF ACTIVITY\\nPetition su...</td>\n",
       "      <td>NaN</td>\n",
       "      <td>REASON\\nExemption-Single Family Residence or C...</td>\n",
       "    </tr>\n",
       "  </tbody>\n",
       "</table>\n",
       "</div>"
      ],
      "text/plain": [
       "                                              header            apn  \\\n",
       "0        CASE NUMBER:     \\n Petition Number:  15051            NaN   \n",
       "1  CASE NUMBER:  T22-0009   \\n Petition Number:  ...            NaN   \n",
       "2  CASE NUMBER:  L22-0002   \\n Petition Number:  ...  048F736503900   \n",
       "\n",
       "                address     hearing_officer program_analyst   petition_type  \\\n",
       "0    437 HALE AV\\nApt A                 NaN             NaN          Tenant   \n",
       "1  3984 Altamont Avenue  Marguerita Fa-Kaji    Ava Silveira          Tenant   \n",
       "2    1900 Mountain Blvd  Marguerita Fa-Kaji    Ava Silveira  Property Owner   \n",
       "\n",
       "   date_filed hearing_date mediation_date appeal_hearing_date  \\\n",
       "0  03-18-2022          NaN            NaN                 NaN   \n",
       "1  12-29-2021   03-16-2022            NaN                 NaN   \n",
       "2  12-28-2021          NaN            NaN                 NaN   \n",
       "\n",
       "                                       case_progress  \\\n",
       "0  ACTIVITY STATUS\\nDATE OF ACTIVITY\\nPetition su...   \n",
       "1  ACTIVITY STATUS\\nDATE OF ACTIVITY\\nPetition su...   \n",
       "2  ACTIVITY STATUS\\nDATE OF ACTIVITY\\nPetition su...   \n",
       "\n",
       "                                      grounds_tenant  \\\n",
       "0  GROUNDS DESCRIPTION\\nFewer housing services Th...   \n",
       "1  GROUNDS DESCRIPTION\\nFewer housing services Th...   \n",
       "2                                                NaN   \n",
       "\n",
       "                                    grounds_landlord  \n",
       "0                                                NaN  \n",
       "1                                                NaN  \n",
       "2  REASON\\nExemption-Single Family Residence or C...  "
      ]
     },
     "execution_count": 332,
     "metadata": {},
     "output_type": "execute_result"
    }
   ],
   "source": [
    "df_raw.head(3)"
   ]
  },
  {
   "cell_type": "code",
   "execution_count": 523,
   "id": "efc240dd",
   "metadata": {},
   "outputs": [],
   "source": [
    "df_cln = df_raw.copy()\n",
    "\n",
    "# clean case number\n",
    "df_cln['case_number'] = df_cln['header'].str.split('\\n', expand=True)[0]\n",
    "df_cln['case_number'] = df_cln['case_number'].apply(lambda s: s.replace('CASE NUMBER:', '').strip())\n",
    "\n",
    "# clean petition number\n",
    "df_cln['petition_number'] = df_cln['header'].str.split('\\n', expand=True)[1]\n",
    "df_cln['petition_number'] = df_cln['petition_number'].apply(lambda s: s.replace('Petition Number:', '').strip())\n",
    "\n",
    "# clean address\n",
    "df_cln['address_l1'] = df_cln['address'].str.split('\\n', expand=True)[0]\n",
    "df_cln['address_l2'] = df_cln['address'].str.split('\\n', expand=True)[1]\n",
    "\n",
    "# Clean case progress\n",
    "def ParseCaseProgress(case):\n",
    "    case = case.split('\\n')\n",
    "\n",
    "    try:\n",
    "        case_progress = pd.DataFrame({case[0].split(' ')[0]:case[2::2],\n",
    "                                      case[1]:case[3::2]})\n",
    "        case_progress['ACTIVITY'].str.split()\n",
    "    except:\n",
    "        if (case[0] == 'Activity'):\n",
    "            case_progress = pd.DataFrame({'ACTIVITY':[' '.join([a,b]) for a, b in zip(case[1::6], case[3::6])],\n",
    "                                          'DATE OF ACTIVITY':case[5::6]})\n",
    "            \n",
    "        else:\n",
    "            print(case)\n",
    "            print('These data are shaped in an unanticipated way and we need to figure out how handle them.')\n",
    "            1/0\n",
    "    \n",
    "    case_progress['STATUS'] = case_progress['ACTIVITY'].str.split()\n",
    "    case_progress['STATUS'] = case_progress['STATUS'].apply(lambda l: l[-1])\n",
    "\n",
    "    case_progress['STATUS'] = case_progress['STATUS'].str.replace('sent', 'Notification sent')\n",
    "    case_progress['STATUS'] = case_progress['STATUS'].str.replace('needed', 'Action needed')\n",
    "\n",
    "    case_progress['ACTIVITY'] = [' '.join(raw_str.split(' ')[:skip_last]) \n",
    "                                 for raw_str, skip_last \n",
    "                                 in zip(case_progress['ACTIVITY'],\n",
    "                                        case_progress['STATUS'].apply(lambda s: len(s.split(' ')) * -1))]\n",
    "\n",
    "    case_progress.columns = [s.lower() for s in case_progress.columns]\n",
    "        \n",
    "    return case_progress\n",
    "\n",
    "df_cln['case_progress'] = df_cln['case_progress'].apply(lambda s: ParseCaseProgress(s))\n",
    "\n",
    "# binary grounds columns\n",
    "# fix this so it acts better\n",
    "def DescriptionCheck(s, dictionary, key):\n",
    "    try:\n",
    "        return any(ele in s for ele in codes[key])\n",
    "    except:\n",
    "        return np.nan\n",
    "    \n",
    "codes={}\n",
    "for path, check_col, shortname in [('../codebooks/tenant_codebook.csv', 'grounds_tenant', 'ts'),\n",
    "                                   ('../codebooks/landlord_codebook.csv', 'grounds_landlord', 'll')]:\n",
    "\n",
    "    codebook = pd.read_csv(path, header=None, index_col=0)\n",
    "    for idx in codebook.index:\n",
    "        codes['_'.join([shortname,idx])] = [s for s in list(codebook.loc[idx]) if s is not np.nan]\n",
    "\n",
    "    for key in codes.keys():\n",
    "        df_cln[key] = df_cln[check_col].apply(lambda s: DescriptionCheck(s, codes, key))\n",
    "\n",
    "\n",
    "# rearrange columns & output clean dataframe"
   ]
  },
  {
   "cell_type": "code",
   "execution_count": 521,
   "id": "217ec732",
   "metadata": {},
   "outputs": [
    {
     "data": {
      "text/plain": [
       "True     1622\n",
       "False    1529\n",
       "Name: ts_fewer_housing_services, dtype: int64"
      ]
     },
     "execution_count": 521,
     "metadata": {},
     "output_type": "execute_result"
    }
   ],
   "source": [
    "df_cln['ts_fewer_housing_services'].value_counts()"
   ]
  },
  {
   "cell_type": "code",
   "execution_count": 517,
   "id": "3d62f01f",
   "metadata": {},
   "outputs": [
    {
     "data": {
      "text/plain": [
       "<AxesSubplot:xlabel='value', ylabel='variable'>"
      ]
     },
     "execution_count": 517,
     "metadata": {},
     "output_type": "execute_result"
    },
    {
     "data": {
      "image/png": "[encoded data removed]",
      "text/plain": [
       "<Figure size 432x288 with 1 Axes>"
      ]
     },
     "metadata": {
      "needs_background": "light"
     },
     "output_type": "display_data"
    }
   ],
   "source": [
    "ll_keys = [s for s in codes.keys() if 'll_' in s]\n",
    "sns.barplot(data=pd.melt(df_cln[ll_keys]), y='variable', x='value')"
   ]
  },
  {
   "cell_type": "code",
   "execution_count": 391,
   "id": "42e26e38",
   "metadata": {},
   "outputs": [],
   "source": [
    "import itertools\n"
   ]
  },
  {
   "cell_type": "code",
   "execution_count": null,
   "id": "c60e3497",
   "metadata": {},
   "outputs": [],
   "source": [
    "[tenant_codes.n == \"d\", ['a','b']].values.flatten().tolist()"
   ]
  },
  {
   "cell_type": "code",
   "execution_count": 446,
   "id": "02deb476",
   "metadata": {},
   "outputs": [],
   "source": [
    "import math"
   ]
  },
  {
   "cell_type": "code",
   "execution_count": 512,
   "id": "ef53e7aa",
   "metadata": {},
   "outputs": [
    {
     "data": {
      "text/plain": [
       "0      GROUNDS DESCRIPTION\\nFewer housing services Th...\n",
       "1      GROUNDS DESCRIPTION\\nFewer housing services Th...\n",
       "2                                                    NaN\n",
       "3      GROUNDS DESCRIPTION\\nFewer housing services Th...\n",
       "4      GROUNDS DESCRIPTION\\nAllowable Amount I receiv...\n",
       "                             ...                        \n",
       "901    Grounds\\nExemption Based on Fraud or Mistake\\n...\n",
       "902    Grounds\\nRent Increase Exceeds CPI or more tha...\n",
       "903    Grounds\\nRent Increase Exceeds CPI or more tha...\n",
       "904    Grounds\\nExemption Based on Fraud or Mistake\\n...\n",
       "905    Grounds\\nDecrease in Services\\nDescription\\ni)...\n",
       "Name: grounds_tenant, Length: 4329, dtype: object"
      ]
     },
     "execution_count": 512,
     "metadata": {},
     "output_type": "execute_result"
    }
   ],
   "source": [
    "df_cln['grounds_tenant']"
   ]
  },
  {
   "cell_type": "code",
   "execution_count": 513,
   "id": "664023ab",
   "metadata": {},
   "outputs": [
    {
     "name": "stdout",
     "output_type": "stream",
     "text": [
      "ts_fewer_housing_services\n",
      "ts_alllowable_amount\n",
      "ts_notice_to_tenants\n",
      "ts_code_violation\n",
      "ts_unlawful_utilities_charge\n",
      "ts_contest_exemption\n",
      "ts_rent_initiation\n",
      "ts_capital_improvements\n",
      "ts_exceeds_cpi\n",
      "ts_prior_rap_notice\n",
      "ts_second_increase\n",
      "ts_incorrect_increase\n",
      "ts_no_preapproval\n",
      "ts_no_concurrent_notice\n",
      "ts_violates_state_law\n",
      "ts_exceeds_30_percent\n",
      "ts_no_summary_provided\n",
      "ts_costa_hawkins_violation\n",
      "ts_no_ground_selected\n",
      "ts_fewer_housing_services\n",
      "ts_alllowable_amount\n",
      "ts_notice_to_tenants\n",
      "ts_code_violation\n",
      "ts_unlawful_utilities_charge\n",
      "ts_contest_exemption\n",
      "ts_rent_initiation\n",
      "ts_capital_improvements\n",
      "ts_exceeds_cpi\n",
      "ts_prior_rap_notice\n",
      "ts_second_increase\n",
      "ts_incorrect_increase\n",
      "ts_no_preapproval\n",
      "ts_no_concurrent_notice\n",
      "ts_violates_state_law\n",
      "ts_exceeds_30_percent\n",
      "ts_no_summary_provided\n",
      "ts_costa_hawkins_violation\n",
      "ts_no_ground_selected\n",
      "ll_costa_hawkins\n",
      "ll_new_construction\n",
      "ll_capital_improvements\n",
      "ll_repair_costs\n",
      "ll_increased_service_costs\n",
      "ll_fair_return\n",
      "ll_banking\n",
      "ll_cpi\n",
      "ll_substantial_rehab\n",
      "ll_approval_increase\n",
      "ll_certificate_of_exemption\n",
      "ll_extension_of_time\n"
     ]
    }
   ],
   "source": []
  },
  {
   "cell_type": "code",
   "execution_count": 507,
   "id": "bdbfb169",
   "metadata": {},
   "outputs": [
    {
     "data": {
      "text/plain": [
       "False    1085\n",
       "Name: ts_fewer_housing_services, dtype: int64"
      ]
     },
     "execution_count": 507,
     "metadata": {},
     "output_type": "execute_result"
    }
   ],
   "source": [
    "df_cln['ts_fewer_housing_services'].value_counts()"
   ]
  },
  {
   "cell_type": "code",
   "execution_count": 504,
   "id": "b6e556b8",
   "metadata": {},
   "outputs": [
    {
     "data": {
      "text/plain": [
       "['ts_fewer_housing_services',\n",
       " 'ts_alllowable_amount',\n",
       " 'ts_notice_to_tenants',\n",
       " 'ts_code_violation',\n",
       " 'ts_unlawful_utilities_charge',\n",
       " 'ts_contest_exemption',\n",
       " 'ts_rent_initiation',\n",
       " 'ts_capital_improvements',\n",
       " 'ts_exceeds_cpi',\n",
       " 'ts_prior_rap_notice',\n",
       " 'ts_second_increase',\n",
       " 'ts_incorrect_increase',\n",
       " 'ts_no_preapproval',\n",
       " 'ts_no_concurrent_notice',\n",
       " 'ts_violates_state_law',\n",
       " 'ts_exceeds_30_percent',\n",
       " 'ts_no_summary_provided',\n",
       " 'ts_costa_hawkins_violation',\n",
       " 'ts_no_ground_selected']"
      ]
     },
     "execution_count": 504,
     "metadata": {},
     "output_type": "execute_result"
    }
   ],
   "source": [
    "tenant_keys"
   ]
  },
  {
   "cell_type": "code",
   "execution_count": 475,
   "id": "e9dccf18",
   "metadata": {},
   "outputs": [
    {
     "data": {
      "text/plain": [
       "Index(['header', 'apn', 'address', 'hearing_officer', 'program_analyst',\n",
       "       'petition_type', 'date_filed', 'hearing_date', 'mediation_date',\n",
       "       'appeal_hearing_date', 'case_progress', 'grounds_tenant',\n",
       "       'grounds_landlord', 'case_number', 'petition_number', 'address_l1',\n",
       "       'address_l2', 'fewer_housing_services', 'alllowable_amount',\n",
       "       'notice_to_tenants', 'code_violation', 'unlawful_utilities_charge',\n",
       "       'contest_exemption', 'rent_initiation', 'capital_improvements',\n",
       "       'exceeds_cpi', 'prior_rap_notice', 'second_increase',\n",
       "       'incorrect_increase', 'no_preapproval', 'no_concurrent_notice',\n",
       "       'violates_state_law', 'exceeds_30_percent', 'no_summary_provided',\n",
       "       'costa_hawkins_violation', 'no_ground_selected'],\n",
       "      dtype='object')"
      ]
     },
     "execution_count": 475,
     "metadata": {},
     "output_type": "execute_result"
    }
   ],
   "source": [
    "df_cln.columns"
   ]
  },
  {
   "cell_type": "code",
   "execution_count": 434,
   "id": "64d9b78f",
   "metadata": {
    "scrolled": true
   },
   "outputs": [
    {
     "data": {
      "text/plain": [
       "Int64Index([1, 2, 3, 4, 5, 6], dtype='int64')"
      ]
     },
     "execution_count": 434,
     "metadata": {},
     "output_type": "execute_result"
    }
   ],
   "source": [
    "tenant_codes[col] for col in tenant_codes.columns[1:]"
   ]
  },
  {
   "cell_type": "code",
   "execution_count": 443,
   "id": "fb5e1812",
   "metadata": {},
   "outputs": [],
   "source": [
    "tenant_codes = pd.read_csv('../codebooks/tenant_codebook.csv', header=None, index_col=0)\n"
   ]
  },
  {
   "cell_type": "code",
   "execution_count": 425,
   "id": "4c2c04c5",
   "metadata": {},
   "outputs": [
    {
     "name": "stdout",
     "output_type": "stream",
     "text": [
      "Grounds\n",
      "No Summary Provided\n",
      "Description\n",
      "m)  The owner did not give me justification(s) for the rent increase(s) despite my written request.\n",
      "Grounds\n",
      "Decrease in Services\n",
      "Description\n",
      "i) My property owner is providing me with fewer housing services than I previously received or is charging me for services originally paid by the owner. (OMC 8.22.070(F): A decrease in housing services is considered an increase in rent. A tenant may petition for a rent adjustment based on a decrease in housing services.)\n",
      "Grounds\n",
      "Health, Safety, Code Violations\n",
      "Description\n",
      "h) There is a current health, safety, fire, or building code violation in my unit, or there are serious problems with the conditions in the unit because the owner failed to do requested repair and maintenance.\n",
      "Grounds\n",
      "Enhanced Notice Error\n",
      "Description\n",
      "Enhanced Notice Error\n",
      "Grounds\n",
      "Exemption Based on Fraud or Mistake\n",
      "Description\n",
      "l) I wish to contest my unit is exempt from the Rent Adjustment Ordinance because the exemption was based on fraud or mistake (OMC 8.22, Article 1)\n",
      "\n",
      "Grounds\n",
      "Incorrect Rent Increase\n",
      "Description\n",
      "a) The CPI and/or banked rent increase notice I was given was calculated incorrectly.\n",
      "Grounds\n",
      "Second Increase in 12 months\n",
      "Description\n",
      "g) The increase I am contesting is the second increase in my rent in a 12-month period.\n",
      "Grounds\n",
      "Enhanced Notice Error\n",
      "Description\n",
      "Enhanced Notice Error\n",
      "\n",
      "Grounds\n",
      "Rent Increase Exceeds CPI or more than 10%\n",
      "Description\n",
      "b) The increase (or increases) exceeds the CPI Adjustment and is unjustified, or is greater than 10%.\n",
      "Grounds\n",
      "Enhanced Notice Error\n",
      "Description\n",
      "Enhanced Notice Error\n",
      "\n"
     ]
    }
   ],
   "source": [
    "check_substr = 'Enhanced Notice Error'\n",
    "t = df_cln.dropna(subset=['grounds_tenant'])\n",
    "\n",
    "for s in t[t['grounds_tenant'].str.contains(check_substr)]['grounds_tenant']:\n",
    "    print(s)\n",
    "    print()"
   ]
  },
  {
   "cell_type": "code",
   "execution_count": 476,
   "id": "f3cfba10",
   "metadata": {},
   "outputs": [
    {
     "name": "stdout",
     "output_type": "stream",
     "text": [
      "REASON\n",
      "\n",
      "Exemption-Single Family Residence or Condominium -Costa Hawkins\n",
      "\n",
      "Exemption-New Construction\n",
      "\n",
      "Capital Improvements\n",
      "\n",
      "Uninsured Repair Costs\n",
      "\n",
      "Increased Housing Service Costs\n",
      "\n",
      "Fair Return\n",
      "\n",
      "Banking\n",
      "\n",
      "CPI\n",
      "\n",
      "Reason\n",
      "\n",
      "Exemption-Substantial Rehab\n",
      "\n",
      "Approval of Increase\n",
      "\n",
      "Certificate of Exemption\n",
      "\n",
      "Extension of Time\n",
      "\n"
     ]
    }
   ],
   "source": [
    "for s in pd.Series(list(np.concatenate(list(df_cln['grounds_landlord'].str.split('\\n').dropna())).flat)).unique():\n",
    "    print(s)\n",
    "    print()"
   ]
  },
  {
   "cell_type": "code",
   "execution_count": 376,
   "id": "38c86c1b",
   "metadata": {},
   "outputs": [
    {
     "data": {
      "text/plain": [
       "['12-02-2020', '06-18-2021']"
      ]
     },
     "execution_count": 376,
     "metadata": {},
     "output_type": "execute_result"
    }
   ],
   "source": [
    "t = ['Activity', 'Petition submitted', 'Status', 'Submitted', 'Date of Activity', \n",
    "     '12-02-2020', 'Activity', 'Case closed', 'Status', 'Completed', 'Date of Activity', '06-18-2021']\n",
    "\n",
    "[' '.join([a,b]) for a, b in zip(t[1::6], t[3::6])]\n",
    "t[5::6]"
   ]
  },
  {
   "cell_type": "code",
   "execution_count": 381,
   "id": "b0f41f48",
   "metadata": {},
   "outputs": [],
   "source": []
  },
  {
   "cell_type": "code",
   "execution_count": 274,
   "id": "e9717ce1",
   "metadata": {},
   "outputs": [
    {
     "ename": "TypeError",
     "evalue": "'float' object is not iterable",
     "output_type": "error",
     "traceback": [
      "\u001b[0;31m---------------------------------------------------------------------------\u001b[0m",
      "\u001b[0;31mTypeError\u001b[0m                                 Traceback (most recent call last)",
      "Input \u001b[0;32mIn [274]\u001b[0m, in \u001b[0;36m<cell line: 1>\u001b[0;34m()\u001b[0m\n\u001b[0;32m----> 1\u001b[0m \u001b[38;5;28;43mlist\u001b[39;49m\u001b[43m(\u001b[49m\u001b[43mchain\u001b[49m\u001b[38;5;241;43m.\u001b[39;49m\u001b[43mfrom_iterable\u001b[49m\u001b[43m(\u001b[49m\u001b[43mdf\u001b[49m\u001b[43m[\u001b[49m\u001b[38;5;124;43m'\u001b[39;49m\u001b[38;5;124;43mgrounds_tenant\u001b[39;49m\u001b[38;5;124;43m'\u001b[39;49m\u001b[43m]\u001b[49m\u001b[38;5;241;43m.\u001b[39;49m\u001b[43mstr\u001b[49m\u001b[38;5;241;43m.\u001b[39;49m\u001b[43msplit\u001b[49m\u001b[43m(\u001b[49m\u001b[38;5;124;43m'\u001b[39;49m\u001b[38;5;130;43;01m\\n\u001b[39;49;00m\u001b[38;5;124;43m'\u001b[39;49m\u001b[43m)\u001b[49m\u001b[43m)\u001b[49m\u001b[43m)\u001b[49m\n",
      "\u001b[0;31mTypeError\u001b[0m: 'float' object is not iterable"
     ]
    }
   ],
   "source": [
    "list(chain.from_iterable(df['grounds_tenant'].str.split('\\n')))"
   ]
  },
  {
   "cell_type": "code",
   "execution_count": 265,
   "id": "a934e1fa",
   "metadata": {
    "scrolled": true
   },
   "outputs": [
    {
     "data": {
      "text/html": [
       "<div>\n",
       "<style scoped>\n",
       "    .dataframe tbody tr th:only-of-type {\n",
       "        vertical-align: middle;\n",
       "    }\n",
       "\n",
       "    .dataframe tbody tr th {\n",
       "        vertical-align: top;\n",
       "    }\n",
       "\n",
       "    .dataframe thead th {\n",
       "        text-align: right;\n",
       "    }\n",
       "</style>\n",
       "<table border=\"1\" class=\"dataframe\">\n",
       "  <thead>\n",
       "    <tr style=\"text-align: right;\">\n",
       "      <th></th>\n",
       "      <th>header</th>\n",
       "      <th>apn</th>\n",
       "      <th>address</th>\n",
       "      <th>hearing_officer</th>\n",
       "      <th>program_analyst</th>\n",
       "      <th>petition_type</th>\n",
       "      <th>date_filed</th>\n",
       "      <th>hearing_date</th>\n",
       "      <th>mediation_date</th>\n",
       "      <th>appeal_hearing_date</th>\n",
       "      <th>case_progress</th>\n",
       "      <th>grounds_tenant</th>\n",
       "      <th>grounds_landlord</th>\n",
       "      <th>date_scraped</th>\n",
       "      <th>case_number</th>\n",
       "      <th>petition_number</th>\n",
       "      <th>address_l1</th>\n",
       "      <th>address_l2</th>\n",
       "    </tr>\n",
       "  </thead>\n",
       "  <tbody>\n",
       "    <tr>\n",
       "      <th>0</th>\n",
       "      <td>CASE NUMBER:     \\n Petition Number:  15051</td>\n",
       "      <td>NaN</td>\n",
       "      <td>437 HALE AV\\nApt A</td>\n",
       "      <td>NaN</td>\n",
       "      <td>NaN</td>\n",
       "      <td>Tenant</td>\n",
       "      <td>03-18-2022</td>\n",
       "      <td>NaN</td>\n",
       "      <td>NaN</td>\n",
       "      <td>NaN</td>\n",
       "      <td>activity date of activity     sta...</td>\n",
       "      <td>GROUNDS DESCRIPTION\\nFewer housing services Th...</td>\n",
       "      <td>NaN</td>\n",
       "      <td>2022-03-22</td>\n",
       "      <td></td>\n",
       "      <td>15051</td>\n",
       "      <td>437 HALE AV</td>\n",
       "      <td>Apt A</td>\n",
       "    </tr>\n",
       "    <tr>\n",
       "      <th>1</th>\n",
       "      <td>CASE NUMBER:  T22-0009   \\n Petition Number:  ...</td>\n",
       "      <td>NaN</td>\n",
       "      <td>3984 Altamont Avenue</td>\n",
       "      <td>Marguerita Fa-Kaji</td>\n",
       "      <td>Ava Silveira</td>\n",
       "      <td>Tenant</td>\n",
       "      <td>12-29-2021</td>\n",
       "      <td>03-16-2022</td>\n",
       "      <td>NaN</td>\n",
       "      <td>NaN</td>\n",
       "      <td>activity date of ...</td>\n",
       "      <td>GROUNDS DESCRIPTION\\nFewer housing services Th...</td>\n",
       "      <td>NaN</td>\n",
       "      <td>2022-03-22</td>\n",
       "      <td>T22-0009</td>\n",
       "      <td>14998</td>\n",
       "      <td>3984 Altamont Avenue</td>\n",
       "      <td>None</td>\n",
       "    </tr>\n",
       "    <tr>\n",
       "      <th>2</th>\n",
       "      <td>CASE NUMBER:  L22-0002   \\n Petition Number:  ...</td>\n",
       "      <td>048F736503900</td>\n",
       "      <td>1900 Mountain Blvd</td>\n",
       "      <td>Marguerita Fa-Kaji</td>\n",
       "      <td>Ava Silveira</td>\n",
       "      <td>Property Owner</td>\n",
       "      <td>12-28-2021</td>\n",
       "      <td>NaN</td>\n",
       "      <td>NaN</td>\n",
       "      <td>NaN</td>\n",
       "      <td>activity date of a...</td>\n",
       "      <td>NaN</td>\n",
       "      <td>REASON\\nExemption-Single Family Residence or C...</td>\n",
       "      <td>2022-03-22</td>\n",
       "      <td>L22-0002</td>\n",
       "      <td>14997</td>\n",
       "      <td>1900 Mountain Blvd</td>\n",
       "      <td>None</td>\n",
       "    </tr>\n",
       "  </tbody>\n",
       "</table>\n",
       "</div>"
      ],
      "text/plain": [
       "                                              header            apn  \\\n",
       "0        CASE NUMBER:     \\n Petition Number:  15051            NaN   \n",
       "1  CASE NUMBER:  T22-0009   \\n Petition Number:  ...            NaN   \n",
       "2  CASE NUMBER:  L22-0002   \\n Petition Number:  ...  048F736503900   \n",
       "\n",
       "                address     hearing_officer program_analyst   petition_type  \\\n",
       "0    437 HALE AV\\nApt A                 NaN             NaN          Tenant   \n",
       "1  3984 Altamont Avenue  Marguerita Fa-Kaji    Ava Silveira          Tenant   \n",
       "2    1900 Mountain Blvd  Marguerita Fa-Kaji    Ava Silveira  Property Owner   \n",
       "\n",
       "   date_filed hearing_date mediation_date appeal_hearing_date  \\\n",
       "0  03-18-2022          NaN            NaN                 NaN   \n",
       "1  12-29-2021   03-16-2022            NaN                 NaN   \n",
       "2  12-28-2021          NaN            NaN                 NaN   \n",
       "\n",
       "                                       case_progress  \\\n",
       "0               activity date of activity     sta...   \n",
       "1                               activity date of ...   \n",
       "2                              activity date of a...   \n",
       "\n",
       "                                      grounds_tenant  \\\n",
       "0  GROUNDS DESCRIPTION\\nFewer housing services Th...   \n",
       "1  GROUNDS DESCRIPTION\\nFewer housing services Th...   \n",
       "2                                                NaN   \n",
       "\n",
       "                                    grounds_landlord date_scraped case_number  \\\n",
       "0                                                NaN   2022-03-22               \n",
       "1                                                NaN   2022-03-22    T22-0009   \n",
       "2  REASON\\nExemption-Single Family Residence or C...   2022-03-22    L22-0002   \n",
       "\n",
       "  petition_number            address_l1 address_l2  \n",
       "0           15051           437 HALE AV      Apt A  \n",
       "1           14998  3984 Altamont Avenue       None  \n",
       "2           14997    1900 Mountain Blvd       None  "
      ]
     },
     "execution_count": 265,
     "metadata": {},
     "output_type": "execute_result"
    }
   ],
   "source": [
    "df.head(3)"
   ]
  },
  {
   "cell_type": "code",
   "execution_count": 389,
   "id": "f32628b7",
   "metadata": {},
   "outputs": [],
   "source": [
    "def Flatten(list_of_lists):\n",
    "    if len(list_of_lists) == 0:\n",
    "        return list_of_lists\n",
    "    if isinstance(list_of_lists[0], list):\n",
    "        return flatten(list_of_lists[0]) + flatten(list_of_lists[1:])\n",
    "    return list_of_lists[:1] + flatten(list_of_lists[1:])"
   ]
  },
  {
   "cell_type": "code",
   "execution_count": null,
   "id": "8fa86eef",
   "metadata": {},
   "outputs": [],
   "source": []
  }
 ],
 "metadata": {
  "kernelspec": {
   "display_name": "Python 3 (ipykernel)",
   "language": "python",
   "name": "python3"
  },
  "language_info": {
   "codemirror_mode": {
    "name": "ipython",
    "version": 3
   },
   "file_extension": ".py",
   "mimetype": "text/x-python",
   "name": "python",
   "nbconvert_exporter": "python",
   "pygments_lexer": "ipython3",
   "version": "3.9.10"
  }
 },
 "nbformat": 4,
 "nbformat_minor": 5
}
