{
 "cells": [
  {
   "cell_type": "code",
   "execution_count": 1,
   "id": "7c4a450c",
   "metadata": {},
   "outputs": [],
   "source": [
    "import os\n",
    "\n",
    "import numpy as np\n",
    "import pandas as pd\n",
    "\n",
    "import matplotlib.pyplot as plt\n",
    "import seaborn as sns\n",
    "\n",
    "from datetime import datetime\n"
   ]
  },
  {
   "cell_type": "markdown",
   "id": "c1ad41ac",
   "metadata": {},
   "source": [
    "# read in the raw data and take a first pass at cleaning"
   ]
  },
  {
   "cell_type": "code",
   "execution_count": 2,
   "id": "b6c95006",
   "metadata": {},
   "outputs": [
    {
     "name": "stdout",
     "output_type": "stream",
     "text": [
      "11917\n"
     ]
    },
    {
     "data": {
      "text/html": [
       "<div>\n",
       "<style scoped>\n",
       "    .dataframe tbody tr th:only-of-type {\n",
       "        vertical-align: middle;\n",
       "    }\n",
       "\n",
       "    .dataframe tbody tr th {\n",
       "        vertical-align: top;\n",
       "    }\n",
       "\n",
       "    .dataframe thead th {\n",
       "        text-align: right;\n",
       "    }\n",
       "</style>\n",
       "<table border=\"1\" class=\"dataframe\">\n",
       "  <thead>\n",
       "    <tr style=\"text-align: right;\">\n",
       "      <th></th>\n",
       "      <th>header</th>\n",
       "      <th>apn</th>\n",
       "      <th>address</th>\n",
       "      <th>hearing_officer</th>\n",
       "      <th>program_analyst</th>\n",
       "      <th>petition_type</th>\n",
       "      <th>date_filed</th>\n",
       "      <th>hearing_date</th>\n",
       "      <th>mediation_date</th>\n",
       "      <th>appeal_hearing_date</th>\n",
       "      <th>case_progress</th>\n",
       "      <th>grounds_tenant</th>\n",
       "      <th>grounds_landlord</th>\n",
       "    </tr>\n",
       "  </thead>\n",
       "  <tbody>\n",
       "    <tr>\n",
       "      <th>0</th>\n",
       "      <td>CASE NUMBER:     \\n Petition Number:  15054</td>\n",
       "      <td>NaN</td>\n",
       "      <td>392 11TH ST\\n409</td>\n",
       "      <td>NaN</td>\n",
       "      <td>NaN</td>\n",
       "      <td>Tenant</td>\n",
       "      <td>03-24-2022</td>\n",
       "      <td>NaN</td>\n",
       "      <td>NaN</td>\n",
       "      <td>NaN</td>\n",
       "      <td>Activity\\nPetition submitted\\nStatus\\nSubmitte...</td>\n",
       "      <td>Grounds\\nNotice to Tenants\\nDescription\\n I re...</td>\n",
       "      <td>NaN</td>\n",
       "    </tr>\n",
       "    <tr>\n",
       "      <th>1</th>\n",
       "      <td>CASE NUMBER:  T99-0217   \\n Petition Number:  ...</td>\n",
       "      <td>NaN</td>\n",
       "      <td>468 Stow Avenue #7</td>\n",
       "      <td>NaN</td>\n",
       "      <td>NaN</td>\n",
       "      <td>Tenant</td>\n",
       "      <td>12-28-1999</td>\n",
       "      <td>04-08-2000</td>\n",
       "      <td>NaN</td>\n",
       "      <td>NaN</td>\n",
       "      <td>Activity\\nPetition submitted\\nStatus\\nComplete...</td>\n",
       "      <td>Grounds\\nDescription</td>\n",
       "      <td>NaN</td>\n",
       "    </tr>\n",
       "    <tr>\n",
       "      <th>2</th>\n",
       "      <td>CASE NUMBER:  T99-0216   \\n Petition Number:  ...</td>\n",
       "      <td>NaN</td>\n",
       "      <td>3634 Kingsley Street #7</td>\n",
       "      <td>NaN</td>\n",
       "      <td>NaN</td>\n",
       "      <td>Tenant</td>\n",
       "      <td>12-29-1999</td>\n",
       "      <td>04-18-2000</td>\n",
       "      <td>NaN</td>\n",
       "      <td>NaN</td>\n",
       "      <td>Activity\\nPetition submitted\\nStatus\\nComplete...</td>\n",
       "      <td>Grounds\\nDescription</td>\n",
       "      <td>NaN</td>\n",
       "    </tr>\n",
       "  </tbody>\n",
       "</table>\n",
       "</div>"
      ],
      "text/plain": [
       "                                              header  apn  \\\n",
       "0        CASE NUMBER:     \\n Petition Number:  15054  NaN   \n",
       "1  CASE NUMBER:  T99-0217   \\n Petition Number:  ...  NaN   \n",
       "2  CASE NUMBER:  T99-0216   \\n Petition Number:  ...  NaN   \n",
       "\n",
       "                   address hearing_officer program_analyst petition_type  \\\n",
       "0         392 11TH ST\\n409             NaN             NaN        Tenant   \n",
       "1       468 Stow Avenue #7             NaN             NaN        Tenant   \n",
       "2  3634 Kingsley Street #7             NaN             NaN        Tenant   \n",
       "\n",
       "   date_filed hearing_date mediation_date appeal_hearing_date  \\\n",
       "0  03-24-2022          NaN            NaN                 NaN   \n",
       "1  12-28-1999   04-08-2000            NaN                 NaN   \n",
       "2  12-29-1999   04-18-2000            NaN                 NaN   \n",
       "\n",
       "                                       case_progress  \\\n",
       "0  Activity\\nPetition submitted\\nStatus\\nSubmitte...   \n",
       "1  Activity\\nPetition submitted\\nStatus\\nComplete...   \n",
       "2  Activity\\nPetition submitted\\nStatus\\nComplete...   \n",
       "\n",
       "                                      grounds_tenant grounds_landlord  \n",
       "0  Grounds\\nNotice to Tenants\\nDescription\\n I re...              NaN  \n",
       "1                               Grounds\\nDescription              NaN  \n",
       "2                               Grounds\\nDescription              NaN  "
      ]
     },
     "execution_count": 2,
     "metadata": {},
     "output_type": "execute_result"
    }
   ],
   "source": [
    "# import raw data\n",
    "all_data = [{s:pd.read_csv(os.path.join('../data/raw/', s))} for s in os.listdir('../data/raw/') if '.csv' in s]\n",
    "all_data = {k: v for d in all_data for k, v in d.items()}\n",
    "\n",
    "#for key in all_data.keys():\n",
    "#    all_data[key]['source'] = key\n",
    "\n",
    "df_raw = pd.concat([all_data[key] for key in all_data.keys()]).drop(['date_scraped'], axis=1).drop_duplicates()\n",
    "print(df_raw.shape[0])\n",
    "df_raw.head(3)"
   ]
  },
  {
   "cell_type": "code",
   "execution_count": 3,
   "id": "d0f3a0ae",
   "metadata": {},
   "outputs": [],
   "source": [
    "df_cln = df_raw.copy()\n",
    "\n",
    "# clean case number\n",
    "df_cln['case_number'] = df_cln['header'].str.split('\\n', expand=True)[0]\n",
    "df_cln['case_number'] = df_cln['case_number'].apply(lambda s: s.replace('CASE NUMBER:', '').strip())\n",
    "\n",
    "# clean petition number\n",
    "df_cln['petition_number'] = df_cln['header'].str.split('\\n', expand=True)[1]\n",
    "df_cln['petition_number'] = df_cln['petition_number'].apply(lambda s: int(s.replace('Petition Number:', '').strip()))"
   ]
  },
  {
   "cell_type": "code",
   "execution_count": 4,
   "id": "b8af92e4",
   "metadata": {},
   "outputs": [],
   "source": [
    "# clean address\n",
    "def CleanAddress(s):\n",
    "    try:\n",
    "        s = s.lower().strip()\n",
    "        if s == '': \n",
    "            return None\n",
    "        else: return s\n",
    "    except:\n",
    "        if pd.isnull(s): return None\n",
    "    \n",
    "df_cln['address'] = df_cln['address'].apply(lambda s: CleanAddress(s))\n",
    "df_cln['address_l1'] = df_cln['address'].str.split('\\n|,|apt.|apt|#', expand=True)[0]\n",
    "df_cln['address_l1'] = df_cln['address_l1'].apply(lambda s: CleanAddress(s))\n",
    "df_cln['address_l2'] = df_cln['address'].str.split('\\n|,|apt.|apt|#', expand=True)[1]\n",
    "df_cln['address_l2'] = df_cln['address_l2'].apply(lambda s: CleanAddress(s))"
   ]
  },
  {
   "cell_type": "code",
   "execution_count": 5,
   "id": "8e51db49",
   "metadata": {},
   "outputs": [],
   "source": [
    "# Clean dates\n",
    "def MakeTimestamp(s):\n",
    "    try: return datetime.strptime(s, '%m-%d-%Y')\n",
    "    except: return np.nan\n",
    "\n",
    "for col in ['date_filed', 'hearing_date', 'mediation_date', 'appeal_hearing_date']:\n",
    "    df_cln[col] = df_cln[col].apply(lambda s: MakeTimestamp(s))"
   ]
  },
  {
   "cell_type": "markdown",
   "id": "0b1ecab2",
   "metadata": {},
   "source": [
    "# break out the case progress data"
   ]
  },
  {
   "cell_type": "code",
   "execution_count": 6,
   "id": "cc606cf3",
   "metadata": {},
   "outputs": [],
   "source": [
    "# Clean case progress\n",
    "def ParseCaseProgress(case):\n",
    "    case = case.split('\\n')\n",
    "\n",
    "    try:\n",
    "        case_progress = pd.DataFrame({case[0].split(' ')[0]:case[2::2],\n",
    "                                      case[1]:case[3::2]})\n",
    "        case_progress['ACTIVITY'].str.split()\n",
    "    except:\n",
    "        if (case[0] == 'Activity'):\n",
    "            case_progress = pd.DataFrame({'ACTIVITY':[' '.join([a,b]) for a, b in zip(case[1::6], case[3::6])],\n",
    "                                          'DATE OF ACTIVITY':case[5::6]})\n",
    "            \n",
    "        else:\n",
    "            print(case)\n",
    "            print('These data are shaped in an unanticipated way and we need to figure out how handle them.')\n",
    "            1/0\n",
    "    \n",
    "    case_progress['STATUS'] = case_progress['ACTIVITY'].str.split()\n",
    "    case_progress['STATUS'] = case_progress['STATUS'].apply(lambda l: l[-1])\n",
    "\n",
    "    case_progress['STATUS'] = case_progress['STATUS'].str.replace('sent', 'Notification sent')\n",
    "    case_progress['STATUS'] = case_progress['STATUS'].str.replace('needed', 'Action needed')\n",
    "\n",
    "    case_progress['ACTIVITY'] = [' '.join(raw_str.split(' ')[:skip_last]) \n",
    "                                 for raw_str, skip_last \n",
    "                                 in zip(case_progress['ACTIVITY'],\n",
    "                                        case_progress['STATUS'].apply(lambda s: len(s.split(' ')) * -1))]\n",
    "\n",
    "    case_progress.columns = [s.lower() for s in case_progress.columns]\n",
    "        \n",
    "    return case_progress\n",
    "\n",
    "df_cln['case_progress'] = df_cln['case_progress'].apply(lambda s: ParseCaseProgress(s))\n",
    "\n",
    "# break out case progress\n",
    "all_case_progress = []\n",
    "\n",
    "for prog_df, petition, case in zip(df_cln['case_progress'], df_cln['petition_number'], df_cln['case_number']):\n",
    "    case_progress = prog_df.copy()\n",
    "    case_progress['petition_number'] = petition\n",
    "    case_progress['case_number'] = case\n",
    "    \n",
    "    all_case_progress.append(case_progress)\n",
    "\n",
    "df_cp = pd.concat(all_case_progress).drop_duplicates().reset_index(drop=True)\n",
    "df_cp['date of activity'] = df_cp['date of activity'].apply(lambda s: MakeTimestamp(s))"
   ]
  },
  {
   "cell_type": "code",
   "execution_count": 7,
   "id": "b184b2e5",
   "metadata": {},
   "outputs": [
    {
     "data": {
      "text/html": [
       "<div>\n",
       "<style scoped>\n",
       "    .dataframe tbody tr th:only-of-type {\n",
       "        vertical-align: middle;\n",
       "    }\n",
       "\n",
       "    .dataframe tbody tr th {\n",
       "        vertical-align: top;\n",
       "    }\n",
       "\n",
       "    .dataframe thead th {\n",
       "        text-align: right;\n",
       "    }\n",
       "</style>\n",
       "<table border=\"1\" class=\"dataframe\">\n",
       "  <thead>\n",
       "    <tr style=\"text-align: right;\">\n",
       "      <th></th>\n",
       "      <th>activity</th>\n",
       "      <th>date of activity</th>\n",
       "      <th>status</th>\n",
       "      <th>petition_number</th>\n",
       "      <th>case_number</th>\n",
       "    </tr>\n",
       "  </thead>\n",
       "  <tbody>\n",
       "    <tr>\n",
       "      <th>0</th>\n",
       "      <td>Petition submitted</td>\n",
       "      <td>2022-03-24</td>\n",
       "      <td>Submitted</td>\n",
       "      <td>15054</td>\n",
       "      <td></td>\n",
       "    </tr>\n",
       "    <tr>\n",
       "      <th>1</th>\n",
       "      <td>Petition submitted</td>\n",
       "      <td>2018-02-13</td>\n",
       "      <td>Completed</td>\n",
       "      <td>9517</td>\n",
       "      <td>T99-0217</td>\n",
       "    </tr>\n",
       "    <tr>\n",
       "      <th>2</th>\n",
       "      <td>Tenant response submitted</td>\n",
       "      <td>2018-02-13</td>\n",
       "      <td>Completed</td>\n",
       "      <td>9517</td>\n",
       "      <td>T99-0217</td>\n",
       "    </tr>\n",
       "  </tbody>\n",
       "</table>\n",
       "</div>"
      ],
      "text/plain": [
       "                    activity date of activity     status  petition_number  \\\n",
       "0         Petition submitted       2022-03-24  Submitted            15054   \n",
       "1         Petition submitted       2018-02-13  Completed             9517   \n",
       "2  Tenant response submitted       2018-02-13  Completed             9517   \n",
       "\n",
       "  case_number  \n",
       "0              \n",
       "1    T99-0217  \n",
       "2    T99-0217  "
      ]
     },
     "execution_count": 7,
     "metadata": {},
     "output_type": "execute_result"
    }
   ],
   "source": [
    "df_cp.head(3)"
   ]
  },
  {
   "cell_type": "markdown",
   "id": "77a886fc",
   "metadata": {},
   "source": [
    "# finalize and export the cleaned dataframe"
   ]
  },
  {
   "cell_type": "code",
   "execution_count": 8,
   "id": "2eddd05d",
   "metadata": {},
   "outputs": [],
   "source": [
    "# Check if one of the substrings associated with a column is in the grounds string\n",
    "def DescriptionCheck(s, dictionary, key):\n",
    "    return any(ele.strip() in str(s).strip() for ele in dictionary[key])\n",
    "\n",
    "# Generate boolean columns for grounds\n",
    "def AddGrounds(df, path, check_col, shortname):\n",
    "    codes = {}\n",
    "    \n",
    "    codebook = pd.read_csv(path, header=None, index_col=0)\n",
    "    for idx in codebook.index:\n",
    "        codes['_'.join([shortname,idx])] = [s.strip() for s in list(codebook.loc[idx]) if s is not np.nan]\n",
    "\n",
    "    for key in codes.keys():\n",
    "        df[key] = df[check_col].apply(lambda s: DescriptionCheck(s, codes, key))\n",
    "        \n",
    "\n",
    "AddGrounds(df_cln, '../codebooks/tenant_codebook.csv', 'grounds_tenant', 'ts')\n",
    "AddGrounds(df_cln, '../codebooks/landlord_codebook.csv', 'grounds_landlord', 'll')"
   ]
  },
  {
   "cell_type": "code",
   "execution_count": 9,
   "id": "950deca2",
   "metadata": {},
   "outputs": [],
   "source": [
    "def WhatKindofRecord(tupl):\n",
    "    if (type(tupl[0]) == str) & (type(tupl[1]) != str): kind = 'Tenant'\n",
    "    elif (type(tupl[0]) != str) & (type(tupl[1]) == str): kind = 'Landlord'\n",
    "    else: kind = 'Not classifiable'\n",
    "    return kind\n",
    "\n",
    "tup = list(zip(df_cln['grounds_tenant'], df_cln['grounds_landlord']))\n",
    "\n",
    "df_cln['record_kind'] = [WhatKindofRecord(t) for t in tup]\n"
   ]
  },
  {
   "cell_type": "code",
   "execution_count": 10,
   "id": "4121f33d",
   "metadata": {},
   "outputs": [
    {
     "data": {
      "text/plain": [
       "Index(['petition_number', 'case_number', 'apn', 'address_l1', 'address_l2',\n",
       "       'hearing_officer', 'program_analyst', 'date_filed', 'hearing_date',\n",
       "       'mediation_date', 'appeal_hearing_date', 'record_kind',\n",
       "       'll_costa_hawkins', 'll_new_construction', 'll_capital_improvements',\n",
       "       'll_repair_costs', 'll_increased_service_costs', 'll_fair_return',\n",
       "       'll_banking', 'll_cpi', 'll_substantial_rehab', 'll_approval_increase',\n",
       "       'll_certificate_of_exemption', 'll_extension_of_time',\n",
       "       'ts_fewer_housing_services', 'ts_allowable_amount',\n",
       "       'ts_notice_to_tenants', 'ts_code_violation',\n",
       "       'ts_unlawful_utilities_charge', 'ts_fraud_or_mistake',\n",
       "       'ts_rent_initiation', 'ts_capital_improvements',\n",
       "       'ts_exceeds_cpi_or_ten_percent', 'ts_no_rap_notice',\n",
       "       'ts_second_increase', 'ts_incorrect_increase', 'ts_no_preapproval',\n",
       "       'ts_no_concurrent_notice', 'ts_violates_state_law',\n",
       "       'ts_exceeds_30_percent', 'ts_no_summary_provided',\n",
       "       'ts_costa_hawkins_violation', 'ts_no_ground_selected'],\n",
       "      dtype='object')"
      ]
     },
     "execution_count": 10,
     "metadata": {},
     "output_type": "execute_result"
    }
   ],
   "source": [
    "# rearrange columns for output\n",
    "include_order = ['petition_number', 'case_number', 'apn', 'address_l1', 'address_l2',\n",
    "                 'hearing_officer', 'program_analyst', \n",
    "                 'date_filed', 'hearing_date', 'mediation_date', 'appeal_hearing_date',\n",
    "                 'record_kind']\n",
    "\n",
    "landlord_cols = [s for s in df_cln.columns if 'll_' in s]\n",
    "tenant_cols = [s for s in df_cln.columns if 'ts_' in s]\n",
    "\n",
    "df_cln = df_cln[include_order + landlord_cols + tenant_cols].drop_duplicates().reset_index(drop=True)\n",
    "df_cln.columns"
   ]
  },
  {
   "cell_type": "markdown",
   "id": "1a8d28dc",
   "metadata": {},
   "source": [
    "# tidy the top-level export in case anybody wants it\n",
    "This is the excel file that you're able to freely download from the RAP database. It's deceptive – it appears to contain grounds data for each case and petition number, but closer investigation appears that the data are commonly and apparently arbitrarily incomplete. This is why I went with the wonky string extraction method seen in the AddGrounds formula."
   ]
  },
  {
   "cell_type": "code",
   "execution_count": 11,
   "id": "3fff39a8",
   "metadata": {},
   "outputs": [],
   "source": [
    "df_top_level = pd.read_excel('../data/top-level/Cases_2022_3_20.xls')\n",
    "df_top_level.columns = [s.lower() for s in df_top_level.columns]\n"
   ]
  },
  {
   "cell_type": "code",
   "execution_count": 12,
   "id": "d266c086",
   "metadata": {},
   "outputs": [
    {
     "data": {
      "text/html": [
       "<div>\n",
       "<style scoped>\n",
       "    .dataframe tbody tr th:only-of-type {\n",
       "        vertical-align: middle;\n",
       "    }\n",
       "\n",
       "    .dataframe tbody tr th {\n",
       "        vertical-align: top;\n",
       "    }\n",
       "\n",
       "    .dataframe thead th {\n",
       "        text-align: right;\n",
       "    }\n",
       "</style>\n",
       "<table border=\"1\" class=\"dataframe\">\n",
       "  <thead>\n",
       "    <tr style=\"text-align: right;\">\n",
       "      <th></th>\n",
       "      <th>case_number</th>\n",
       "      <th>date_last_modified</th>\n",
       "      <th>ground</th>\n",
       "      <th>reason</th>\n",
       "      <th>status</th>\n",
       "      <th>date_filed</th>\n",
       "      <th>petition_number</th>\n",
       "    </tr>\n",
       "  </thead>\n",
       "  <tbody>\n",
       "    <tr>\n",
       "      <th>0</th>\n",
       "      <td>NaN</td>\n",
       "      <td>3-18-2022</td>\n",
       "      <td>Fewer housing services</td>\n",
       "      <td>NaN</td>\n",
       "      <td>Submitted</td>\n",
       "      <td>2022-03-18</td>\n",
       "      <td>15051</td>\n",
       "    </tr>\n",
       "    <tr>\n",
       "      <th>1</th>\n",
       "      <td>NaN</td>\n",
       "      <td>3-16-2022</td>\n",
       "      <td>Fewer housing services</td>\n",
       "      <td>NaN</td>\n",
       "      <td>Submitted</td>\n",
       "      <td>2022-03-16</td>\n",
       "      <td>15050</td>\n",
       "    </tr>\n",
       "    <tr>\n",
       "      <th>2</th>\n",
       "      <td>NaN</td>\n",
       "      <td>3-15-2022</td>\n",
       "      <td>Fewer housing services</td>\n",
       "      <td>NaN</td>\n",
       "      <td>Submitted</td>\n",
       "      <td>2022-03-15</td>\n",
       "      <td>15049</td>\n",
       "    </tr>\n",
       "  </tbody>\n",
       "</table>\n",
       "</div>"
      ],
      "text/plain": [
       "  case_number date_last_modified                  ground reason     status  \\\n",
       "0         NaN          3-18-2022  Fewer housing services    NaN  Submitted   \n",
       "1         NaN          3-16-2022  Fewer housing services    NaN  Submitted   \n",
       "2         NaN          3-15-2022  Fewer housing services    NaN  Submitted   \n",
       "\n",
       "  date_filed  petition_number  \n",
       "0 2022-03-18            15051  \n",
       "1 2022-03-16            15050  \n",
       "2 2022-03-15            15049  "
      ]
     },
     "execution_count": 12,
     "metadata": {},
     "output_type": "execute_result"
    }
   ],
   "source": [
    "df_top_level.head(3)"
   ]
  },
  {
   "cell_type": "markdown",
   "id": "4367c090",
   "metadata": {},
   "source": [
    "<hr>"
   ]
  },
  {
   "cell_type": "markdown",
   "id": "7b65cda7",
   "metadata": {},
   "source": [
    "# export"
   ]
  },
  {
   "cell_type": "code",
   "execution_count": 13,
   "id": "93b4b9dc",
   "metadata": {},
   "outputs": [
    {
     "data": {
      "text/html": [
       "<div>\n",
       "<style scoped>\n",
       "    .dataframe tbody tr th:only-of-type {\n",
       "        vertical-align: middle;\n",
       "    }\n",
       "\n",
       "    .dataframe tbody tr th {\n",
       "        vertical-align: top;\n",
       "    }\n",
       "\n",
       "    .dataframe thead th {\n",
       "        text-align: right;\n",
       "    }\n",
       "</style>\n",
       "<table border=\"1\" class=\"dataframe\">\n",
       "  <thead>\n",
       "    <tr style=\"text-align: right;\">\n",
       "      <th></th>\n",
       "      <th>activity</th>\n",
       "      <th>date of activity</th>\n",
       "      <th>status</th>\n",
       "      <th>petition_number</th>\n",
       "      <th>case_number</th>\n",
       "    </tr>\n",
       "  </thead>\n",
       "  <tbody>\n",
       "    <tr>\n",
       "      <th>0</th>\n",
       "      <td>Petition submitted</td>\n",
       "      <td>2022-03-24</td>\n",
       "      <td>Submitted</td>\n",
       "      <td>15054</td>\n",
       "      <td></td>\n",
       "    </tr>\n",
       "    <tr>\n",
       "      <th>1</th>\n",
       "      <td>Petition submitted</td>\n",
       "      <td>2018-02-13</td>\n",
       "      <td>Completed</td>\n",
       "      <td>9517</td>\n",
       "      <td>T99-0217</td>\n",
       "    </tr>\n",
       "    <tr>\n",
       "      <th>2</th>\n",
       "      <td>Tenant response submitted</td>\n",
       "      <td>2018-02-13</td>\n",
       "      <td>Completed</td>\n",
       "      <td>9517</td>\n",
       "      <td>T99-0217</td>\n",
       "    </tr>\n",
       "  </tbody>\n",
       "</table>\n",
       "</div>"
      ],
      "text/plain": [
       "                    activity date of activity     status  petition_number  \\\n",
       "0         Petition submitted       2022-03-24  Submitted            15054   \n",
       "1         Petition submitted       2018-02-13  Completed             9517   \n",
       "2  Tenant response submitted       2018-02-13  Completed             9517   \n",
       "\n",
       "  case_number  \n",
       "0              \n",
       "1    T99-0217  \n",
       "2    T99-0217  "
      ]
     },
     "execution_count": 13,
     "metadata": {},
     "output_type": "execute_result"
    }
   ],
   "source": [
    "df_cp.head(3)"
   ]
  },
  {
   "cell_type": "code",
   "execution_count": 14,
   "id": "4138a0d3",
   "metadata": {},
   "outputs": [],
   "source": [
    "# output clean dataframes\n",
    "df_cp.to_csv('../data/clean/case_progress.csv', index=False)\n",
    "df_cln.to_csv('../data/clean/rap_cases_clean.csv', index=False)\n",
    "df_top_level.to_csv('../data/clean/top_level_data.csv', index=False)"
   ]
  },
  {
   "cell_type": "markdown",
   "id": "2b99731f",
   "metadata": {},
   "source": [
    "<hr>"
   ]
  },
  {
   "cell_type": "markdown",
   "id": "08a935d6",
   "metadata": {},
   "source": [
    "# wellness checks"
   ]
  },
  {
   "cell_type": "code",
   "execution_count": 15,
   "id": "3ec7c41b",
   "metadata": {},
   "outputs": [
    {
     "data": {
      "text/plain": [
       "<AxesSubplot:xlabel='value', ylabel='variable'>"
      ]
     },
     "execution_count": 15,
     "metadata": {},
     "output_type": "execute_result"
    },
    {
     "data": {
      "image/png": "[encoded data removed]",
      "text/plain": [
       "<Figure size 432x288 with 1 Axes>"
      ]
     },
     "metadata": {
      "needs_background": "light"
     },
     "output_type": "display_data"
    }
   ],
   "source": [
    "sns.barplot(data=df_cln[tenant_cols].melt(),x='value', y='variable')"
   ]
  },
  {
   "cell_type": "code",
   "execution_count": 16,
   "id": "594c596c",
   "metadata": {},
   "outputs": [
    {
     "data": {
      "text/plain": [
       "<AxesSubplot:xlabel='record_kind', ylabel='index'>"
      ]
     },
     "execution_count": 16,
     "metadata": {},
     "output_type": "execute_result"
    },
    {
     "data": {
      "image/png": "[encoded data removed]",
      "text/plain": [
       "<Figure size 432x288 with 1 Axes>"
      ]
     },
     "metadata": {
      "needs_background": "light"
     },
     "output_type": "display_data"
    }
   ],
   "source": [
    "sns.barplot(data=pd.DataFrame(df_cln['record_kind'].value_counts()).reset_index(), x='record_kind', y='index')"
   ]
  },
  {
   "cell_type": "code",
   "execution_count": 17,
   "id": "b7d42162",
   "metadata": {},
   "outputs": [
    {
     "data": {
      "text/plain": [
       "<AxesSubplot:xlabel='date_filed', ylabel='ll_costa_hawkins'>"
      ]
     },
     "execution_count": 17,
     "metadata": {},
     "output_type": "execute_result"
    },
    {
     "data": {
      "image/png": "[encoded data removed]",
      "text/plain": [
       "<Figure size 864x432 with 1 Axes>"
      ]
     },
     "metadata": {
      "needs_background": "light"
     },
     "output_type": "display_data"
    }
   ],
   "source": [
    "reason = 'll_costa_hawkins'\n",
    "\n",
    "df_costa = df_cln[['date_filed', reason]].copy()\n",
    "df_costa = df_costa[df_costa['date_filed'] > '2018-06-01']\n",
    "df_costa['date_filed'] = df_costa['date_filed'].dt.to_period('M').dt.to_timestamp()\n",
    "df_costa[reason] = df_costa[reason] * 1\n",
    "df_costa = df_costa.groupby('date_filed').sum()\n",
    "plt.figure(figsize=(12,6))\n",
    "\n",
    "sns.lineplot(data=df_costa, x='date_filed', y=reason)"
   ]
  },
  {
   "cell_type": "code",
   "execution_count": 18,
   "id": "b85382af",
   "metadata": {},
   "outputs": [
    {
     "data": {
      "text/plain": [
       "Tenant              10246\n",
       "Landlord             1576\n",
       "Not classifiable       93\n",
       "Name: record_kind, dtype: int64"
      ]
     },
     "execution_count": 18,
     "metadata": {},
     "output_type": "execute_result"
    }
   ],
   "source": [
    "df_cln['record_kind'].value_counts()"
   ]
  },
  {
   "cell_type": "code",
   "execution_count": 19,
   "id": "e8bd2a09",
   "metadata": {},
   "outputs": [
    {
     "data": {
      "text/plain": [
       "<AxesSubplot:xlabel='value', ylabel='variable'>"
      ]
     },
     "execution_count": 19,
     "metadata": {},
     "output_type": "execute_result"
    },
    {
     "data": {
      "image/png": "[encoded data removed]",
      "text/plain": [
       "<Figure size 432x288 with 1 Axes>"
      ]
     },
     "metadata": {
      "needs_background": "light"
     },
     "output_type": "display_data"
    }
   ],
   "source": [
    "df_ll = df_cln[df_cln['record_kind'] == 'Landlord'].copy()\n",
    "\n",
    "sns.barplot(data=df_ll[landlord_cols].melt(),x='value', y='variable')"
   ]
  },
  {
   "cell_type": "code",
   "execution_count": 20,
   "id": "38e8e4c8",
   "metadata": {},
   "outputs": [
    {
     "data": {
      "text/plain": [
       "<AxesSubplot:xlabel='value', ylabel='variable'>"
      ]
     },
     "execution_count": 20,
     "metadata": {},
     "output_type": "execute_result"
    },
    {
     "data": {
      "image/png": "[encoded data removed]",
      "text/plain": [
       "<Figure size 432x288 with 1 Axes>"
      ]
     },
     "metadata": {
      "needs_background": "light"
     },
     "output_type": "display_data"
    }
   ],
   "source": [
    "df_ts = df_cln[df_cln['record_kind'] == 'Tenant'].copy()\n",
    "\n",
    "sns.barplot(data=df_ts[tenant_cols].melt(),x='value', y='variable')"
   ]
  },
  {
   "cell_type": "code",
   "execution_count": 21,
   "id": "2db5080e",
   "metadata": {},
   "outputs": [
    {
     "data": {
      "text/plain": [
       "False    10687\n",
       "True      1228\n",
       "Name: apn, dtype: int64"
      ]
     },
     "execution_count": 21,
     "metadata": {},
     "output_type": "execute_result"
    }
   ],
   "source": [
    "df_cln['apn'].notnull().value_counts()"
   ]
  },
  {
   "cell_type": "code",
   "execution_count": 22,
   "id": "5b1a4f83",
   "metadata": {},
   "outputs": [
    {
     "data": {
      "text/plain": [
       "True     11794\n",
       "False      121\n",
       "Name: address_l1, dtype: int64"
      ]
     },
     "execution_count": 22,
     "metadata": {},
     "output_type": "execute_result"
    }
   ],
   "source": [
    "df_cln['address_l1'].notnull().value_counts()"
   ]
  },
  {
   "cell_type": "code",
   "execution_count": 23,
   "id": "1772f1b8",
   "metadata": {},
   "outputs": [
    {
     "data": {
      "text/plain": [
       "0.9910924369747899"
      ]
     },
     "execution_count": 23,
     "metadata": {},
     "output_type": "execute_result"
    }
   ],
   "source": [
    "11794 / 11900"
   ]
  },
  {
   "cell_type": "markdown",
   "id": "f9409e2d",
   "metadata": {},
   "source": [
    "<hr>"
   ]
  },
  {
   "cell_type": "markdown",
   "id": "2c28d9e6",
   "metadata": {},
   "source": [
    "# misc.\n",
    "I used this to make sure I coded every possible substring in the grounds strings. It just prints every substring found in the data that isn't captured by the codebooks."
   ]
  },
  {
   "cell_type": "code",
   "execution_count": 24,
   "id": "50b3aa9f",
   "metadata": {},
   "outputs": [
    {
     "name": "stdout",
     "output_type": "stream",
     "text": [
      "REASON\n",
      "\n",
      "nan\n",
      "\n",
      "Reason\n",
      "\n"
     ]
    }
   ],
   "source": [
    "def CheckCodes(filepath, petition_type, check_col):\n",
    "    \n",
    "    desc_substrings = list(df_raw[df_raw['petition_type'] == petition_type][check_col].apply(lambda s: str(s).split('\\n')))\n",
    "    desc_substrings = [item for sublist in desc_substrings for item in sublist]\n",
    "    desc_substrings = list(set(desc_substrings))\n",
    "\n",
    "    codebook = pd.read_csv(filepath, header=None, index_col=0)\n",
    "    all_items = []\n",
    "\n",
    "    for col in codebook.columns:\n",
    "        all_items += list(codebook[col])\n",
    "\n",
    "    for item in desc_substrings:\n",
    "        if item.strip() not in all_items:\n",
    "            print(item)\n",
    "            print()\n",
    "            \n",
    "filepath = '../codebooks/landlord_codebook.csv'\n",
    "CheckCodes(filepath, 'Property Owner', 'grounds_landlord')"
   ]
  }
 ],
 "metadata": {
  "kernelspec": {
   "display_name": "Python 3 (ipykernel)",
   "language": "python",
   "name": "python3"
  },
  "language_info": {
   "codemirror_mode": {
    "name": "ipython",
    "version": 3
   },
   "file_extension": ".py",
   "mimetype": "text/x-python",
   "name": "python",
   "nbconvert_exporter": "python",
   "pygments_lexer": "ipython3",
   "version": "3.9.12"
  }
 },
 "nbformat": 4,
 "nbformat_minor": 5
}
